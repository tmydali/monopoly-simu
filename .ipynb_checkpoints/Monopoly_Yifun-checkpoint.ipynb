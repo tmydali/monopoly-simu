{
 "cells": [
  {
   "cell_type": "code",
   "execution_count": 1,
   "metadata": {
    "colab": {},
    "colab_type": "code",
    "id": "UTuR7BMhUC7S"
   },
   "outputs": [],
   "source": [
    "import numpy as np\n",
    "import pandas as pd\n",
    "import matplotlib.pyplot as plt"
   ]
  },
  {
   "cell_type": "markdown",
   "metadata": {
    "colab_type": "text",
    "id": "GJH7YUmcXZ_J"
   },
   "source": [
    "定義遊戲棋盤類別"
   ]
  },
  {
   "cell_type": "code",
   "execution_count": 2,
   "metadata": {
    "colab": {},
    "colab_type": "code",
    "id": "lymPgoA1UY19"
   },
   "outputs": [],
   "source": [
    "class Playboard():\n",
    "    def __init__(self, replace=False, boardSize=12):\n",
    "        self.passList = []\n",
    "        self.replace = replace\n",
    "        self.boardSize = boardSize\n",
    "        self.board = np.full(boardSize, -1, dtype=int)\n",
    "        self.piecePlace = 0\n",
    "        self.randomSeed = 0\n",
    "        self.records = None\n",
    "\n",
    "    def setBoard(self, entryList):\n",
    "        self.board = np.array(entryList)\n",
    "\n",
    "    def setRandomSeed(self, seed):\n",
    "        np.random.seed(seed)\n",
    "\n",
    "    def drawNumbers(self):\n",
    "        nums = np.random.choice(10, 2, replace=self.replace)\n",
    "        return nums\n",
    "\n",
    "    def playOneGame(self):\n",
    "        steps = np.sum(self.drawNumbers()) % 10\n",
    "        if steps == 0: return True\n",
    "        self.piecePlace = (self.piecePlace + steps) % self.boardSize\n",
    "        number = self.board[self.piecePlace]\n",
    "        while number in self.passList:\n",
    "            self.piecePlace = (self.piecePlace + 1) % self.boardSize\n",
    "            number = self.board[self.piecePlace]\n",
    "        if number == -1: return True\n",
    "        self.passList.insert(0, number)\n",
    "        if len(self.passList) > 6:\n",
    "            return False\n",
    "        else: return True\n",
    "\n",
    "    def gameReset(self):\n",
    "        self.passList = []\n",
    "        self.piecePlace = 0\n",
    "\n",
    "    def storeResult(self, epoch):\n",
    "        for num in self.passList:\n",
    "            self.records[epoch, num] = self.records[epoch, num] + 1\n",
    "\n",
    "    def getRecords(self):\n",
    "        return self.records\n",
    "\n",
    "    def run(self, batchSize=10, epochs=10):\n",
    "        print('Simulation start...')\n",
    "        self.records = np.zeros((epochs, 10))\n",
    "        for ep in range(epochs):\n",
    "            if ep%100 == 0: \n",
    "                print('epoch: {}'.format(ep))\n",
    "            for i in range(batchSize):\n",
    "                while self.playOneGame():\n",
    "                    pass\n",
    "                self.storeResult(ep)\n",
    "                self.gameReset() \n",
    "  "
   ]
  },
  {
   "cell_type": "markdown",
   "metadata": {
    "colab_type": "text",
    "id": "R8k_C0g_Xoz7"
   },
   "source": [
    "設定棋盤內容、控制隨機種子並執行實驗"
   ]
  },
  {
   "cell_type": "code",
   "execution_count": 10,
   "metadata": {
    "colab": {
     "base_uri": "https://localhost:8080/",
     "height": 204
    },
    "colab_type": "code",
    "executionInfo": {
     "elapsed": 253025,
     "status": "ok",
     "timestamp": 1595579237637,
     "user": {
      "displayName": "F64066096林彥呈",
      "photoUrl": "https://lh3.googleusercontent.com/a-/AOh14Ghg8kBFlFbI76bJLo-fTmHpHNcBsdr-XOh4dE0E=s64",
      "userId": "10374746677382918409"
     },
     "user_tz": -480
    },
    "id": "db1HVcQHYH-M",
    "outputId": "83b2f8dd-fb3e-4356-a2eb-f417c0bdd632"
   },
   "outputs": [
    {
     "name": "stdout",
     "output_type": "stream",
     "text": [
      "Simulation start...\n",
      "epoch: 0\n",
      "epoch: 100\n",
      "epoch: 200\n",
      "epoch: 300\n",
      "epoch: 400\n",
      "epoch: 500\n",
      "epoch: 600\n",
      "epoch: 700\n",
      "epoch: 800\n",
      "epoch: 900\n"
     ]
    }
   ],
   "source": [
    "game = Playboard()\n",
    "game.setBoard([-1, 5, 9, 7, 1, 4, -1, 6, 0, 3, 8, 2])\n",
    "game.setRandomSeed(59)\n",
    "game.run(batchSize=1000, epochs=1000)\n",
    "array = game.getRecords()"
   ]
  },
  {
   "cell_type": "markdown",
   "metadata": {
    "colab_type": "text",
    "id": "jiBCKtdGX0Ll"
   },
   "source": [
    "檢視實驗數據及初步統計量"
   ]
  },
  {
   "cell_type": "code",
   "execution_count": 11,
   "metadata": {
    "colab": {
     "base_uri": "https://localhost:8080/",
     "height": 297
    },
    "colab_type": "code",
    "executionInfo": {
     "elapsed": 249029,
     "status": "ok",
     "timestamp": 1595579237641,
     "user": {
      "displayName": "F64066096林彥呈",
      "photoUrl": "https://lh3.googleusercontent.com/a-/AOh14Ghg8kBFlFbI76bJLo-fTmHpHNcBsdr-XOh4dE0E=s64",
      "userId": "10374746677382918409"
     },
     "user_tz": -480
    },
    "id": "eY4SR-LJ4PtO",
    "outputId": "93d8ac03-8248-414c-f057-5814df15a14d"
   },
   "outputs": [
    {
     "data": {
      "text/html": [
       "<div>\n",
       "<style scoped>\n",
       "    .dataframe tbody tr th:only-of-type {\n",
       "        vertical-align: middle;\n",
       "    }\n",
       "\n",
       "    .dataframe tbody tr th {\n",
       "        vertical-align: top;\n",
       "    }\n",
       "\n",
       "    .dataframe thead th {\n",
       "        text-align: right;\n",
       "    }\n",
       "</style>\n",
       "<table border=\"1\" class=\"dataframe\">\n",
       "  <thead>\n",
       "    <tr style=\"text-align: right;\">\n",
       "      <th></th>\n",
       "      <th>0</th>\n",
       "      <th>1</th>\n",
       "      <th>2</th>\n",
       "      <th>3</th>\n",
       "      <th>4</th>\n",
       "      <th>5</th>\n",
       "      <th>6</th>\n",
       "      <th>7</th>\n",
       "      <th>8</th>\n",
       "      <th>9</th>\n",
       "    </tr>\n",
       "  </thead>\n",
       "  <tbody>\n",
       "    <tr>\n",
       "      <td>count</td>\n",
       "      <td>1000.000000</td>\n",
       "      <td>1000.000000</td>\n",
       "      <td>1000.000000</td>\n",
       "      <td>1000.000000</td>\n",
       "      <td>1000.000000</td>\n",
       "      <td>1000.000000</td>\n",
       "      <td>1000.000000</td>\n",
       "      <td>1000.000000</td>\n",
       "      <td>1000.000000</td>\n",
       "      <td>1000.000000</td>\n",
       "    </tr>\n",
       "    <tr>\n",
       "      <td>mean</td>\n",
       "      <td>700.766000</td>\n",
       "      <td>733.961000</td>\n",
       "      <td>683.497000</td>\n",
       "      <td>747.435000</td>\n",
       "      <td>731.680000</td>\n",
       "      <td>624.098000</td>\n",
       "      <td>625.314000</td>\n",
       "      <td>740.734000</td>\n",
       "      <td>712.021000</td>\n",
       "      <td>700.494000</td>\n",
       "    </tr>\n",
       "    <tr>\n",
       "      <td>std</td>\n",
       "      <td>14.858938</td>\n",
       "      <td>14.122214</td>\n",
       "      <td>15.233714</td>\n",
       "      <td>13.764128</td>\n",
       "      <td>13.811965</td>\n",
       "      <td>15.132924</td>\n",
       "      <td>15.119921</td>\n",
       "      <td>13.940789</td>\n",
       "      <td>14.553706</td>\n",
       "      <td>14.697278</td>\n",
       "    </tr>\n",
       "    <tr>\n",
       "      <td>min</td>\n",
       "      <td>647.000000</td>\n",
       "      <td>695.000000</td>\n",
       "      <td>637.000000</td>\n",
       "      <td>692.000000</td>\n",
       "      <td>693.000000</td>\n",
       "      <td>570.000000</td>\n",
       "      <td>586.000000</td>\n",
       "      <td>696.000000</td>\n",
       "      <td>668.000000</td>\n",
       "      <td>655.000000</td>\n",
       "    </tr>\n",
       "    <tr>\n",
       "      <td>25%</td>\n",
       "      <td>691.000000</td>\n",
       "      <td>725.000000</td>\n",
       "      <td>673.000000</td>\n",
       "      <td>738.000000</td>\n",
       "      <td>723.000000</td>\n",
       "      <td>614.000000</td>\n",
       "      <td>615.000000</td>\n",
       "      <td>731.000000</td>\n",
       "      <td>702.000000</td>\n",
       "      <td>691.000000</td>\n",
       "    </tr>\n",
       "    <tr>\n",
       "      <td>50%</td>\n",
       "      <td>701.000000</td>\n",
       "      <td>734.000000</td>\n",
       "      <td>684.000000</td>\n",
       "      <td>747.000000</td>\n",
       "      <td>731.000000</td>\n",
       "      <td>624.000000</td>\n",
       "      <td>625.000000</td>\n",
       "      <td>741.000000</td>\n",
       "      <td>712.000000</td>\n",
       "      <td>701.000000</td>\n",
       "    </tr>\n",
       "    <tr>\n",
       "      <td>75%</td>\n",
       "      <td>710.000000</td>\n",
       "      <td>743.000000</td>\n",
       "      <td>694.000000</td>\n",
       "      <td>756.000000</td>\n",
       "      <td>741.000000</td>\n",
       "      <td>634.000000</td>\n",
       "      <td>635.000000</td>\n",
       "      <td>750.000000</td>\n",
       "      <td>722.000000</td>\n",
       "      <td>711.000000</td>\n",
       "    </tr>\n",
       "    <tr>\n",
       "      <td>max</td>\n",
       "      <td>749.000000</td>\n",
       "      <td>780.000000</td>\n",
       "      <td>725.000000</td>\n",
       "      <td>790.000000</td>\n",
       "      <td>775.000000</td>\n",
       "      <td>678.000000</td>\n",
       "      <td>675.000000</td>\n",
       "      <td>783.000000</td>\n",
       "      <td>770.000000</td>\n",
       "      <td>747.000000</td>\n",
       "    </tr>\n",
       "  </tbody>\n",
       "</table>\n",
       "</div>"
      ],
      "text/plain": [
       "                 0            1            2            3            4  \\\n",
       "count  1000.000000  1000.000000  1000.000000  1000.000000  1000.000000   \n",
       "mean    700.766000   733.961000   683.497000   747.435000   731.680000   \n",
       "std      14.858938    14.122214    15.233714    13.764128    13.811965   \n",
       "min     647.000000   695.000000   637.000000   692.000000   693.000000   \n",
       "25%     691.000000   725.000000   673.000000   738.000000   723.000000   \n",
       "50%     701.000000   734.000000   684.000000   747.000000   731.000000   \n",
       "75%     710.000000   743.000000   694.000000   756.000000   741.000000   \n",
       "max     749.000000   780.000000   725.000000   790.000000   775.000000   \n",
       "\n",
       "                 5            6            7            8            9  \n",
       "count  1000.000000  1000.000000  1000.000000  1000.000000  1000.000000  \n",
       "mean    624.098000   625.314000   740.734000   712.021000   700.494000  \n",
       "std      15.132924    15.119921    13.940789    14.553706    14.697278  \n",
       "min     570.000000   586.000000   696.000000   668.000000   655.000000  \n",
       "25%     614.000000   615.000000   731.000000   702.000000   691.000000  \n",
       "50%     624.000000   625.000000   741.000000   712.000000   701.000000  \n",
       "75%     634.000000   635.000000   750.000000   722.000000   711.000000  \n",
       "max     678.000000   675.000000   783.000000   770.000000   747.000000  "
      ]
     },
     "execution_count": 11,
     "metadata": {},
     "output_type": "execute_result"
    }
   ],
   "source": [
    "statistics = pd.DataFrame(array, columns=['0','1','2','3','4','5','6','7','8','9'], dtype=int)\n",
    "statistics.describe()"
   ]
  },
  {
   "cell_type": "markdown",
   "metadata": {
    "colab_type": "text",
    "id": "CJQ0w_I6Z_B5"
   },
   "source": [
    "儲存實驗數據成CSV檔"
   ]
  },
  {
   "cell_type": "code",
   "execution_count": null,
   "metadata": {
    "colab": {},
    "colab_type": "code",
    "id": "wQGUnOK8Z_eh"
   },
   "outputs": [],
   "source": [
    "statistics.to_csv('raw_data.csv')"
   ]
  },
  {
   "cell_type": "markdown",
   "metadata": {
    "colab_type": "text",
    "id": "Rxsww2TRqBXp"
   },
   "source": [
    "若要讀取外部檔案，從此block開始執行"
   ]
  },
  {
   "cell_type": "code",
   "execution_count": null,
   "metadata": {
    "colab": {},
    "colab_type": "code",
    "id": "5ncy4d8Ucdvr"
   },
   "outputs": [],
   "source": [
    "array = pd.read_csv('raw_data.csv')\n",
    "statistics = pd.DataFrame(array, columns=['0','1','2','3','4','5','6','7','8','9'], dtype=int)"
   ]
  },
  {
   "cell_type": "markdown",
   "metadata": {
    "colab_type": "text",
    "id": "UzB4tHbHX8w9"
   },
   "source": [
    "畫出數據的平均與標準差"
   ]
  },
  {
   "cell_type": "code",
   "execution_count": 12,
   "metadata": {
    "colab": {
     "base_uri": "https://localhost:8080/",
     "height": 562
    },
    "colab_type": "code",
    "executionInfo": {
     "elapsed": 247016,
     "status": "ok",
     "timestamp": 1595579238258,
     "user": {
      "displayName": "F64066096林彥呈",
      "photoUrl": "https://lh3.googleusercontent.com/a-/AOh14Ghg8kBFlFbI76bJLo-fTmHpHNcBsdr-XOh4dE0E=s64",
      "userId": "10374746677382918409"
     },
     "user_tz": -480
    },
    "id": "cH_XtgjUdFBG",
    "outputId": "7e65faa8-b889-4e36-89eb-4d22fb6080e4"
   },
   "outputs": [
    {
     "data": {
      "text/plain": [
       "<BarContainer object of 10 artists>"
      ]
     },
     "execution_count": 12,
     "metadata": {},
     "output_type": "execute_result"
    },
    {
     "data": {
      "image/png": "[encoded data removed]",
      "text/plain": [
       "<Figure size 432x288 with 1 Axes>"
      ]
     },
     "metadata": {
      "needs_background": "light"
     },
     "output_type": "display_data"
    },
    {
     "data": {
      "image/png": "[encoded data removed]",
      "text/plain": [
       "<Figure size 432x288 with 1 Axes>"
      ]
     },
     "metadata": {
      "needs_background": "light"
     },
     "output_type": "display_data"
    }
   ],
   "source": [
    "plt.figure(0)\n",
    "plt.title('Mean')\n",
    "plt.bar(statistics.columns.values, statistics.mean())\n",
    "plt.figure(1)\n",
    "plt.title('Standard Deviation')\n",
    "plt.bar(statistics.columns.values, statistics.std(), color='tab:orange')"
   ]
  },
  {
   "cell_type": "markdown",
   "metadata": {
    "colab_type": "text",
    "id": "z6MJTBTPYBhH"
   },
   "source": [
    "觀察每個號碼的分布狀態，初步猜測所有號碼在抽樣中皆為常態分布"
   ]
  },
  {
   "cell_type": "code",
   "execution_count": 13,
   "metadata": {
    "colab": {
     "base_uri": "https://localhost:8080/",
     "height": 716
    },
    "colab_type": "code",
    "executionInfo": {
     "elapsed": 247727,
     "status": "ok",
     "timestamp": 1595579240783,
     "user": {
      "displayName": "F64066096林彥呈",
      "photoUrl": "https://lh3.googleusercontent.com/a-/AOh14Ghg8kBFlFbI76bJLo-fTmHpHNcBsdr-XOh4dE0E=s64",
      "userId": "10374746677382918409"
     },
     "user_tz": -480
    },
    "id": "wq6E1PU2dFBJ",
    "outputId": "a7b5a202-8bf6-4637-9ae2-ea5f257cba68"
   },
   "outputs": [
    {
     "data": {
      "image/png": "[encoded data removed]",
      "text/plain": [
       "<Figure size 1296x864 with 10 Axes>"
      ]
     },
     "metadata": {
      "needs_background": "light"
     },
     "output_type": "display_data"
    }
   ],
   "source": [
    "import scipy.stats as stats\n",
    "fig = plt.figure(figsize=(18, 12))\n",
    "for i in statistics.columns.values:\n",
    "  ax = fig.add_subplot(3, 4, np.int(i)+1)\n",
    "  ax.set_title(i)\n",
    "  x = statistics[i]\n",
    "  ax.hist(x, bins=50);"
   ]
  },
  {
   "cell_type": "markdown",
   "metadata": {
    "colab_type": "text",
    "id": "PTqpu1K-YP8k"
   },
   "source": [
    "因猜測為常態分布，故將每個號碼依其平均與標準差繪製出機率密度函數(PDF)，發現號碼5、6的出現次數較低且離群"
   ]
  },
  {
   "cell_type": "code",
   "execution_count": 14,
   "metadata": {
    "colab": {
     "base_uri": "https://localhost:8080/",
     "height": 282
    },
    "colab_type": "code",
    "executionInfo": {
     "elapsed": 245889,
     "status": "ok",
     "timestamp": 1595579240784,
     "user": {
      "displayName": "F64066096林彥呈",
      "photoUrl": "https://lh3.googleusercontent.com/a-/AOh14Ghg8kBFlFbI76bJLo-fTmHpHNcBsdr-XOh4dE0E=s64",
      "userId": "10374746677382918409"
     },
     "user_tz": -480
    },
    "id": "w6uvdnZudFBM",
    "outputId": "8e78a318-7e2f-4c4d-bdd9-a8a2e84ee382"
   },
   "outputs": [
    {
     "data": {
      "text/plain": [
       "<matplotlib.legend.Legend at 0x7faf34840dd8>"
      ]
     },
     "execution_count": 14,
     "metadata": {},
     "output_type": "execute_result"
    },
    {
     "data": {
      "image/png": "[encoded data removed]",
      "text/plain": [
       "<Figure size 432x288 with 1 Axes>"
      ]
     },
     "metadata": {
      "needs_background": "light"
     },
     "output_type": "display_data"
    }
   ],
   "source": [
    "for i in statistics.columns.values:\n",
    "  mu = np.mean(statistics[i])\n",
    "  sigma = np.std(statistics[i])\n",
    "  x = np.linspace(mu-3.2*sigma, mu+3.2*sigma, 100)\n",
    "  plt.plot(x, stats.norm.pdf(x, mu, sigma))\n",
    "plt.legend(statistics.columns.values)"
   ]
  },
  {
   "cell_type": "markdown",
   "metadata": {
    "colab_type": "text",
    "id": "b_bBrFoLZPa_"
   },
   "source": [
    "進行one-way ANOVA，95%信心水準"
   ]
  },
  {
   "cell_type": "code",
   "execution_count": 15,
   "metadata": {
    "colab": {
     "base_uri": "https://localhost:8080/",
     "height": 442
    },
    "colab_type": "code",
    "executionInfo": {
     "elapsed": 244777,
     "status": "ok",
     "timestamp": 1595579241363,
     "user": {
      "displayName": "F64066096林彥呈",
      "photoUrl": "https://lh3.googleusercontent.com/a-/AOh14Ghg8kBFlFbI76bJLo-fTmHpHNcBsdr-XOh4dE0E=s64",
      "userId": "10374746677382918409"
     },
     "user_tz": -480
    },
    "id": "A-AfMYa0mMcz",
    "outputId": "adf37125-2af4-4515-f27e-cf7fdc4c9abd"
   },
   "outputs": [
    {
     "name": "stdout",
     "output_type": "stream",
     "text": [
      "F-statistic\n",
      "    0        1        2        3        4        5        6        7        8        9        \n",
      "0   \n",
      "1   02622.19 \n",
      "2   00658.53 05901.73 \n",
      "3   05309.09 00466.84 09698.46 \n",
      "4   02322.09 00013.33 05490.54 00652.83 \n",
      "5   13068.18 28171.54 07652.27 36352.67 27571.59 \n",
      "6   12668.01 27576.69 07348.43 35672.92 26977.11 00003.23 \n",
      "7   03848.02 00116.49 07682.89 00117.00 00212.86 32133.99 31496.72 \n",
      "8   00292.82 01170.50 01832.98 03125.52 00960.00 17536.70 17070.21 02029.85 \n",
      "9   00000.17 02695.99 00644.75 05434.45 02390.89 13114.94 12711.99 03945.99 00310.58 \n",
      "\n",
      "P-value\n",
      "    0        1        2        3        4        5        6        7        8        9        \n",
      "0   \n",
      "1   0.0000*  \n",
      "2   0.0000*  0.0000*  \n",
      "3   0.0000*  0.0000*  0.0000*  \n",
      "4   0.0000*  0.0003*  0.0000*  0.0000*  \n",
      "5   0.0000*  0.0000*  0.0000*  0.0000*  0.0000*  \n",
      "6   0.0000*  0.0000*  0.0000*  0.0000*  0.0000*  0.0724   \n",
      "7   0.0000*  0.0000*  0.0000*  0.0000*  0.0000*  0.0000*  0.0000*  \n",
      "8   0.0000*  0.0000*  0.0000*  0.0000*  0.0000*  0.0000*  0.0000*  0.0000*  \n",
      "9   0.6807   0.0000*  0.0000*  0.0000*  0.0000*  0.0000*  0.0000*  0.0000*  0.0000*  \n"
     ]
    }
   ],
   "source": [
    "print('F-statistic')\n",
    "print('   ', end=' ')\n",
    "for i in statistics.columns.values:\n",
    "  print('{:8}'.format(i), end=' ')\n",
    "print()\n",
    "\n",
    "for i in statistics.columns.values:\n",
    "  print('{:3}'.format(i), end=' ')\n",
    "  for j in range(np.int(i)):\n",
    "    j = str(j)\n",
    "    F, p = stats.f_oneway(statistics[i], statistics[j])\n",
    "    print('{:08.2f}'.format(F), end=' ')\n",
    "  print()\n",
    "\n",
    "print('\\nP-value')\n",
    "print('   ', end=' ')\n",
    "for i in statistics.columns.values:\n",
    "  print('{:8}'.format(i), end=' ')\n",
    "print()\n",
    "\n",
    "for i in statistics.columns.values:\n",
    "  print('{:3}'.format(i), end=' ')\n",
    "  for j in range(np.int(i)):\n",
    "    j = str(j)\n",
    "    F, p = stats.f_oneway(statistics[i], statistics[j])\n",
    "    if p < 0.05:\n",
    "      print('{:.4f}* '.format(p), end=' ')\n",
    "    else:\n",
    "      print('{:.4f}  '.format(p), end=' ')\n",
    "  print()  "
   ]
  },
  {
   "cell_type": "code",
   "execution_count": 18,
   "metadata": {},
   "outputs": [
    {
     "data": {
      "text/plain": [
       "0    5\n",
       "1    6\n",
       "2    2\n",
       "3    9\n",
       "4    0\n",
       "5    8\n",
       "6    4\n",
       "7    1\n",
       "8    7\n",
       "9    3\n",
       "dtype: int64"
      ]
     },
     "execution_count": 18,
     "metadata": {},
     "output_type": "execute_result"
    }
   ],
   "source": [
    "np.argsort(statistics.mean())"
   ]
  },
  {
   "cell_type": "markdown",
   "metadata": {
    "colab": {},
    "colab_type": "code",
    "id": "Gz6cswuzdev0"
   },
   "source": [
    "### 結論\n",
    "\n",
    "從ANOVA檢定可以發現，號碼0和9的中獎次數沒有顯著差異，5和6的中獎次數沒有顯著差異，其他號碼間都有顯著差異，換句話說，號碼本身直接決定了中獎機率，機率由高到低依序為3 > 7 > 1 > 4 > 8 > {0,9} > 2 > {6,5}，其中0和9機率相同、5和6機率相同。"
   ]
  },
  {
   "cell_type": "code",
   "execution_count": null,
   "metadata": {},
   "outputs": [],
   "source": []
  }
 ],
 "metadata": {
  "colab": {
   "name": "「Monopoly_Yifun.ipynb」的副本",
   "provenance": [
    {
     "file_id": "https://github.com/tmydali/monopoly-simu/blob/master/Monopoly_Yifun.ipynb",
     "timestamp": 1595574726679
    },
    {
     "file_id": "https://github.com/tmydali/monopoly-simu/blob/master/Monopoly_Yifun.ipynb",
     "timestamp": 1595486611293
    }
   ]
  },
  "kernelspec": {
   "display_name": "Python 3",
   "language": "python",
   "name": "python3"
  },
  "language_info": {
   "codemirror_mode": {
    "name": "ipython",
    "version": 3
   },
   "file_extension": ".py",
   "mimetype": "text/x-python",
   "name": "python",
   "nbconvert_exporter": "python",
   "pygments_lexer": "ipython3",
   "version": "3.6.9"
  }
 },
 "nbformat": 4,
 "nbformat_minor": 1
}
