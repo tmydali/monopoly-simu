{
 "cells": [
  {
   "cell_type": "code",
   "execution_count": 1,
   "metadata": {
    "colab": {},
    "colab_type": "code",
    "executionInfo": {
     "elapsed": 2764,
     "status": "ok",
     "timestamp": 1595423093213,
     "user": {
      "displayName": "F64066096林彥呈",
      "photoUrl": "https://lh3.googleusercontent.com/a-/AOh14Ghg8kBFlFbI76bJLo-fTmHpHNcBsdr-XOh4dE0E=s64",
      "userId": "10374746677382918409"
     },
     "user_tz": -480
    },
    "id": "UTuR7BMhUC7S"
   },
   "outputs": [],
   "source": [
    "import numpy as np\n",
    "import pandas as pd\n",
    "import matplotlib.pyplot as plt"
   ]
  },
  {
   "cell_type": "code",
   "execution_count": 176,
   "metadata": {
    "colab": {},
    "colab_type": "code",
    "executionInfo": {
     "elapsed": 982,
     "status": "ok",
     "timestamp": 1595428557991,
     "user": {
      "displayName": "F64066096林彥呈",
      "photoUrl": "https://lh3.googleusercontent.com/a-/AOh14Ghg8kBFlFbI76bJLo-fTmHpHNcBsdr-XOh4dE0E=s64",
      "userId": "10374746677382918409"
     },
     "user_tz": -480
    },
    "id": "lymPgoA1UY19"
   },
   "outputs": [],
   "source": [
    "class Playboard():\n",
    "    def __init__(self, replace=False, boardSize=12):\n",
    "        self.passList = []\n",
    "        self.replace = replace\n",
    "        self.boardSize = boardSize\n",
    "        self.board = np.full(boardSize, -1, dtype=int)\n",
    "        self.piecePlace = 0\n",
    "        self.randomSeed = 0\n",
    "        self.records = None\n",
    "\n",
    "    def setBoard(self, entryList):\n",
    "        self.board = np.array(entryList)\n",
    "\n",
    "    def setRandomSeed(self, seed):\n",
    "        np.random.seed(seed)\n",
    "\n",
    "    def drawNumbers(self):\n",
    "        nums = np.random.choice(10, 2, replace=self.replace)\n",
    "        return nums\n",
    "\n",
    "    def playOneGame(self):\n",
    "        steps = np.sum(self.drawNumbers()) % 10\n",
    "        if steps == 0: return True\n",
    "        self.piecePlace = (self.piecePlace + steps) % self.boardSize\n",
    "        number = self.board[self.piecePlace]\n",
    "        while number in self.passList:\n",
    "            self.piecePlace = (self.piecePlace + 1) % self.boardSize\n",
    "            number = self.board[self.piecePlace]\n",
    "        if number == -1: return True\n",
    "        self.passList.insert(0, number)\n",
    "        if len(self.passList) > 6:\n",
    "            return False\n",
    "        else: return True\n",
    "\n",
    "    def gameReset(self):\n",
    "        self.passList = []\n",
    "        self.piecePlace = 0\n",
    "\n",
    "    def storeResult(self, epoch):\n",
    "        for num in self.passList:\n",
    "            self.records[epoch, num] = self.records[epoch, num] + 1\n",
    "\n",
    "    def getRecords(self):\n",
    "        return self.records\n",
    "\n",
    "    def run(self, batchSize=10, epochs=10):\n",
    "        print('Simulation start...')\n",
    "        self.records = np.zeros((epochs, 10))\n",
    "        for ep in range(epochs):\n",
    "            if ep%100 == 0: \n",
    "                print('epoch: {}'.format(ep))\n",
    "            for i in range(batchSize):\n",
    "                while self.playOneGame():\n",
    "                    pass\n",
    "                self.storeResult(ep)\n",
    "                self.gameReset() \n",
    "  "
   ]
  },
  {
   "cell_type": "code",
   "execution_count": 177,
   "metadata": {
    "colab": {
     "base_uri": "https://localhost:8080/",
     "height": 404
    },
    "colab_type": "code",
    "executionInfo": {
     "elapsed": 23448,
     "status": "error",
     "timestamp": 1595428649883,
     "user": {
      "displayName": "F64066096林彥呈",
      "photoUrl": "https://lh3.googleusercontent.com/a-/AOh14Ghg8kBFlFbI76bJLo-fTmHpHNcBsdr-XOh4dE0E=s64",
      "userId": "10374746677382918409"
     },
     "user_tz": -480
    },
    "id": "db1HVcQHYH-M",
    "outputId": "2da150a3-dbb4-4305-b515-a2737f11d2a7"
   },
   "outputs": [
    {
     "name": "stdout",
     "output_type": "stream",
     "text": [
      "Simulating start...\n",
      "epoch: 0\n",
      "epoch: 100\n",
      "epoch: 200\n",
      "epoch: 300\n",
      "epoch: 400\n",
      "epoch: 500\n",
      "epoch: 600\n",
      "epoch: 700\n",
      "epoch: 800\n",
      "epoch: 900\n"
     ]
    }
   ],
   "source": [
    "game = Playboard()\n",
    "game.setBoard([-1, 5, 9, 7, 1, 4, -1, 6, 0, 3, 8, 2])\n",
    "game.setRandomSeed(79)\n",
    "game.run(batchSize=1000, epochs=1000)\n",
    "array = game.getRecords()"
   ]
  },
  {
   "cell_type": "code",
   "execution_count": 178,
   "metadata": {
    "colab": {},
    "colab_type": "code",
    "id": "eY4SR-LJ4PtO"
   },
   "outputs": [
    {
     "data": {
      "text/html": [
       "<div>\n",
       "<style scoped>\n",
       "    .dataframe tbody tr th:only-of-type {\n",
       "        vertical-align: middle;\n",
       "    }\n",
       "\n",
       "    .dataframe tbody tr th {\n",
       "        vertical-align: top;\n",
       "    }\n",
       "\n",
       "    .dataframe thead th {\n",
       "        text-align: right;\n",
       "    }\n",
       "</style>\n",
       "<table border=\"1\" class=\"dataframe\">\n",
       "  <thead>\n",
       "    <tr style=\"text-align: right;\">\n",
       "      <th></th>\n",
       "      <th>0</th>\n",
       "      <th>1</th>\n",
       "      <th>2</th>\n",
       "      <th>3</th>\n",
       "      <th>4</th>\n",
       "      <th>5</th>\n",
       "      <th>6</th>\n",
       "      <th>7</th>\n",
       "      <th>8</th>\n",
       "      <th>9</th>\n",
       "    </tr>\n",
       "  </thead>\n",
       "  <tbody>\n",
       "    <tr>\n",
       "      <th>count</th>\n",
       "      <td>1000.000000</td>\n",
       "      <td>1000.000000</td>\n",
       "      <td>1000.000000</td>\n",
       "      <td>1000.000000</td>\n",
       "      <td>1000.000000</td>\n",
       "      <td>1000.000000</td>\n",
       "      <td>1000.0000</td>\n",
       "      <td>1000.000000</td>\n",
       "      <td>1000.000000</td>\n",
       "      <td>1000.000000</td>\n",
       "    </tr>\n",
       "    <tr>\n",
       "      <th>mean</th>\n",
       "      <td>701.202000</td>\n",
       "      <td>733.978000</td>\n",
       "      <td>683.177000</td>\n",
       "      <td>747.673000</td>\n",
       "      <td>732.001000</td>\n",
       "      <td>624.876000</td>\n",
       "      <td>624.1680</td>\n",
       "      <td>741.758000</td>\n",
       "      <td>711.682000</td>\n",
       "      <td>699.485000</td>\n",
       "    </tr>\n",
       "    <tr>\n",
       "      <th>std</th>\n",
       "      <td>14.432931</td>\n",
       "      <td>13.186485</td>\n",
       "      <td>15.449737</td>\n",
       "      <td>13.589877</td>\n",
       "      <td>14.752038</td>\n",
       "      <td>14.983295</td>\n",
       "      <td>15.7351</td>\n",
       "      <td>13.784464</td>\n",
       "      <td>14.851715</td>\n",
       "      <td>15.255901</td>\n",
       "    </tr>\n",
       "    <tr>\n",
       "      <th>min</th>\n",
       "      <td>658.000000</td>\n",
       "      <td>693.000000</td>\n",
       "      <td>635.000000</td>\n",
       "      <td>707.000000</td>\n",
       "      <td>687.000000</td>\n",
       "      <td>580.000000</td>\n",
       "      <td>573.0000</td>\n",
       "      <td>700.000000</td>\n",
       "      <td>667.000000</td>\n",
       "      <td>655.000000</td>\n",
       "    </tr>\n",
       "    <tr>\n",
       "      <th>25%</th>\n",
       "      <td>691.000000</td>\n",
       "      <td>724.000000</td>\n",
       "      <td>673.000000</td>\n",
       "      <td>738.000000</td>\n",
       "      <td>722.000000</td>\n",
       "      <td>615.000000</td>\n",
       "      <td>614.0000</td>\n",
       "      <td>732.000000</td>\n",
       "      <td>702.000000</td>\n",
       "      <td>689.000000</td>\n",
       "    </tr>\n",
       "    <tr>\n",
       "      <th>50%</th>\n",
       "      <td>701.000000</td>\n",
       "      <td>734.000000</td>\n",
       "      <td>683.000000</td>\n",
       "      <td>748.000000</td>\n",
       "      <td>732.000000</td>\n",
       "      <td>625.000000</td>\n",
       "      <td>624.0000</td>\n",
       "      <td>742.000000</td>\n",
       "      <td>712.000000</td>\n",
       "      <td>699.000000</td>\n",
       "    </tr>\n",
       "    <tr>\n",
       "      <th>75%</th>\n",
       "      <td>710.000000</td>\n",
       "      <td>743.000000</td>\n",
       "      <td>694.000000</td>\n",
       "      <td>757.000000</td>\n",
       "      <td>742.000000</td>\n",
       "      <td>635.000000</td>\n",
       "      <td>635.0000</td>\n",
       "      <td>751.250000</td>\n",
       "      <td>722.000000</td>\n",
       "      <td>710.250000</td>\n",
       "    </tr>\n",
       "    <tr>\n",
       "      <th>max</th>\n",
       "      <td>742.000000</td>\n",
       "      <td>785.000000</td>\n",
       "      <td>736.000000</td>\n",
       "      <td>784.000000</td>\n",
       "      <td>778.000000</td>\n",
       "      <td>671.000000</td>\n",
       "      <td>675.0000</td>\n",
       "      <td>781.000000</td>\n",
       "      <td>758.000000</td>\n",
       "      <td>745.000000</td>\n",
       "    </tr>\n",
       "  </tbody>\n",
       "</table>\n",
       "</div>"
      ],
      "text/plain": [
       "                 0            1            2            3            4  \\\n",
       "count  1000.000000  1000.000000  1000.000000  1000.000000  1000.000000   \n",
       "mean    701.202000   733.978000   683.177000   747.673000   732.001000   \n",
       "std      14.432931    13.186485    15.449737    13.589877    14.752038   \n",
       "min     658.000000   693.000000   635.000000   707.000000   687.000000   \n",
       "25%     691.000000   724.000000   673.000000   738.000000   722.000000   \n",
       "50%     701.000000   734.000000   683.000000   748.000000   732.000000   \n",
       "75%     710.000000   743.000000   694.000000   757.000000   742.000000   \n",
       "max     742.000000   785.000000   736.000000   784.000000   778.000000   \n",
       "\n",
       "                 5          6            7            8            9  \n",
       "count  1000.000000  1000.0000  1000.000000  1000.000000  1000.000000  \n",
       "mean    624.876000   624.1680   741.758000   711.682000   699.485000  \n",
       "std      14.983295    15.7351    13.784464    14.851715    15.255901  \n",
       "min     580.000000   573.0000   700.000000   667.000000   655.000000  \n",
       "25%     615.000000   614.0000   732.000000   702.000000   689.000000  \n",
       "50%     625.000000   624.0000   742.000000   712.000000   699.000000  \n",
       "75%     635.000000   635.0000   751.250000   722.000000   710.250000  \n",
       "max     671.000000   675.0000   781.000000   758.000000   745.000000  "
      ]
     },
     "execution_count": 178,
     "metadata": {},
     "output_type": "execute_result"
    }
   ],
   "source": [
    "statics = pd.DataFrame(array, columns=['0','1','2','3','4','5','6','7','8','9'], dtype=int)\n",
    "statics.describe()"
   ]
  },
  {
   "cell_type": "code",
   "execution_count": 180,
   "metadata": {},
   "outputs": [
    {
     "data": {
      "text/plain": [
       "<BarContainer object of 10 artists>"
      ]
     },
     "execution_count": 180,
     "metadata": {},
     "output_type": "execute_result"
    },
    {
     "data": {
      "image/png": "[encoded data removed]",
      "text/plain": [
       "<Figure size 432x288 with 1 Axes>"
      ]
     },
     "metadata": {
      "needs_background": "light"
     },
     "output_type": "display_data"
    },
    {
     "data": {
      "image/png": "[encoded data removed]",
      "text/plain": [
       "<Figure size 432x288 with 1 Axes>"
      ]
     },
     "metadata": {
      "needs_background": "light"
     },
     "output_type": "display_data"
    }
   ],
   "source": [
    "plt.figure(0)\n",
    "plt.title('Mean')\n",
    "plt.bar(statics.columns.values, statics.mean())\n",
    "plt.figure(1)\n",
    "plt.title('Standard Deviation')\n",
    "plt.bar(statics.columns.values, statics.std(), color='tab:orange')"
   ]
  },
  {
   "cell_type": "code",
   "execution_count": null,
   "metadata": {},
   "outputs": [],
   "source": []
  },
  {
   "cell_type": "code",
   "execution_count": null,
   "metadata": {},
   "outputs": [],
   "source": []
  }
 ],
 "metadata": {
  "colab": {
   "authorship_tag": "ABX9TyPD8yetF1sA6Fls04XOizib",
   "name": "Monopoly_Yifun.ipynb",
   "provenance": []
  },
  "kernelspec": {
   "display_name": "Python 3",
   "language": "python",
   "name": "python3"
  },
  "language_info": {
   "codemirror_mode": {
    "name": "ipython",
    "version": 3
   },
   "file_extension": ".py",
   "mimetype": "text/x-python",
   "name": "python",
   "nbconvert_exporter": "python",
   "pygments_lexer": "ipython3",
   "version": "3.6.9"
  }
 },
 "nbformat": 4,
 "nbformat_minor": 1
}
